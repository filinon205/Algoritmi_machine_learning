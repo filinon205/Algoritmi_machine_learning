{
 "cells": [
  {
   "cell_type": "markdown",
   "metadata": {
    "colab_type": "text",
    "id": "FM6XV3IlabW_"
   },
   "source": [
    "## Урок 4. Деревья решений"
   ]
  },
  {
   "cell_type": "markdown",
   "metadata": {},
   "source": [
    "# 1. В коде из методички реализуйте один или несколько критериев останова (количество листьев, количество используемых признаков, глубина дерева и т.д.)  "
   ]
  },
  {
   "cell_type": "markdown",
   "metadata": {},
   "source": [
    "### Добавил два критерия останова:\n",
    "    1) глубина дерева\n",
    "    2) кол-во объектов в листе"
   ]
  },
  {
   "cell_type": "code",
   "execution_count": 1,
   "metadata": {
    "colab": {},
    "colab_type": "code",
    "id": "u7Xi827dabXb"
   },
   "outputs": [],
   "source": [
    "import matplotlib.pyplot as plt\n",
    "import random\n",
    "\n",
    "from matplotlib.colors import ListedColormap\n",
    "from sklearn import datasets\n",
    "\n",
    "import numpy as np"
   ]
  },
  {
   "cell_type": "code",
   "execution_count": 47,
   "metadata": {
    "colab": {},
    "colab_type": "code",
    "id": "6FZaieu8abXe"
   },
   "outputs": [],
   "source": [
    "# сгенерируем данные\n",
    "classification_data, classification_labels = datasets.make_classification( \n",
    "                                                      n_features = 2, n_informative = 2, \n",
    "                                                      n_classes = 2, n_redundant = 0, \n",
    "                                                      n_clusters_per_class = 1, \n",
    "                                                      random_state = 5\n",
    "                                                                         )"
   ]
  },
  {
   "cell_type": "code",
   "execution_count": 48,
   "metadata": {},
   "outputs": [
    {
     "data": {
      "text/plain": [
       "array([[-0.48221702, -0.28206699],\n",
       "       [ 1.41747159, -0.86709816],\n",
       "       [ 0.88378869, -0.92475428],\n",
       "       [ 0.7469239 , -1.2160026 ],\n",
       "       [-0.11161925,  0.07390672],\n",
       "       [-0.58749226, -0.66081696],\n",
       "       [-0.88183821, -0.55448172],\n",
       "       [-2.10674166, -1.99108522],\n",
       "       [-0.566895  , -1.06057167],\n",
       "       [ 2.12945908, -0.34878879],\n",
       "       [ 1.24936047, -0.71891837],\n",
       "       [ 2.15694675, -0.99280756],\n",
       "       [-0.4747746 ,  0.44731927],\n",
       "       [ 0.23456461, -1.92487075],\n",
       "       [-1.79019556, -1.41552354],\n",
       "       [-0.50977934, -0.11662801],\n",
       "       [ 2.62728189,  0.05877427],\n",
       "       [-0.18074965,  0.12120859],\n",
       "       [-1.41216434, -2.89426972],\n",
       "       [ 0.512618  , -0.60786361],\n",
       "       [ 0.08490007, -1.52259229],\n",
       "       [-0.08810642, -1.52088966],\n",
       "       [ 0.59148992, -0.87677056],\n",
       "       [ 0.3960253 , -1.67064887],\n",
       "       [-0.67449854, -0.52577294],\n",
       "       [ 2.00141541, -0.03761801],\n",
       "       [ 1.84208015, -0.34586556],\n",
       "       [-0.62365955, -0.92164859],\n",
       "       [ 0.97916906, -0.66087127],\n",
       "       [ 0.82110246, -0.71656316],\n",
       "       [ 0.22079911, -1.84463546],\n",
       "       [-1.05172963, -0.26699935],\n",
       "       [-2.11651888, -2.65004766],\n",
       "       [-1.00409969, -0.30384789],\n",
       "       [-0.87259859, -1.054345  ],\n",
       "       [-1.76598659, -2.71709016],\n",
       "       [-1.28606042, -1.42076007],\n",
       "       [ 1.28356698, -1.18233322],\n",
       "       [-2.15300462, -2.6885842 ],\n",
       "       [ 0.44598558, -1.38661615],\n",
       "       [-0.84118144, -1.94029333],\n",
       "       [-0.98550349, -1.14566671],\n",
       "       [-1.16963313,  0.27798236],\n",
       "       [ 1.83206525, -0.74561534],\n",
       "       [ 1.30117175, -0.88190168],\n",
       "       [ 0.64260994, -0.47459868],\n",
       "       [-0.75386568, -2.25796056],\n",
       "       [-0.9715037 ,  0.24426775],\n",
       "       [-1.40766172, -2.01703536],\n",
       "       [-0.95250335, -0.8416742 ],\n",
       "       [-0.0516325 , -1.56152648],\n",
       "       [-1.13987431, -0.86210383],\n",
       "       [ 2.68010925, -0.32159682],\n",
       "       [ 1.96139854, -0.23257258],\n",
       "       [-0.02676286,  0.06799508],\n",
       "       [ 0.16261403,  0.86970406],\n",
       "       [-0.43167485, -0.42207294],\n",
       "       [ 2.03722337, -0.4905997 ],\n",
       "       [-1.16976879, -1.15077851],\n",
       "       [-0.97499184, -0.85346679],\n",
       "       [-0.93142729, -1.10424402],\n",
       "       [-0.94783015, -1.67948078],\n",
       "       [ 2.83870427, -0.07035103],\n",
       "       [-1.66859117, -1.08267582],\n",
       "       [-1.24993128, -1.41723933],\n",
       "       [ 3.58506475,  0.46132916],\n",
       "       [-0.49426568, -1.6294423 ],\n",
       "       [ 1.17095313, -1.14111003],\n",
       "       [ 1.4543218 , -0.47592044],\n",
       "       [ 1.40603029, -0.5939222 ],\n",
       "       [ 1.26147925, -1.15872843],\n",
       "       [-0.54030079, -0.51742972],\n",
       "       [ 2.40986664, -0.20567285],\n",
       "       [ 1.08215874, -1.22856774],\n",
       "       [-0.47539621, -0.06353882],\n",
       "       [ 0.78394704, -0.9685413 ],\n",
       "       [-0.05059925, -0.16169855],\n",
       "       [-1.18453301, -1.22934736],\n",
       "       [-0.45352977,  0.21904722],\n",
       "       [ 1.96263849, -0.26239215],\n",
       "       [ 1.1783791 , -0.99569562],\n",
       "       [ 0.80181576, -0.89476163],\n",
       "       [-1.09893956, -2.45380027],\n",
       "       [ 0.85757528, -1.10399563],\n",
       "       [ 0.78628291, -1.46538379],\n",
       "       [-0.26751423, -1.19516651],\n",
       "       [-1.33209756, -2.65158841],\n",
       "       [-0.09712237, -1.7842772 ],\n",
       "       [ 0.70547252, -1.4702806 ],\n",
       "       [ 1.17174679, -1.00236961],\n",
       "       [ 0.62260014, -1.48222889],\n",
       "       [ 1.32712345, -1.04306465],\n",
       "       [-0.77230204, -0.06527799],\n",
       "       [-1.12983001, -1.00670594],\n",
       "       [-0.19852893,  0.65355092],\n",
       "       [-1.71244266, -2.1772304 ],\n",
       "       [-0.09195834,  1.02541377],\n",
       "       [ 0.83033804, -1.04064708],\n",
       "       [-1.42629254, -1.03359265],\n",
       "       [ 0.66338902, -0.82739718]])"
      ]
     },
     "execution_count": 48,
     "metadata": {},
     "output_type": "execute_result"
    }
   ],
   "source": [
    "classification_data # данные сгенерированные по x и y(по умолчанию 100 объектов) на 2 меры "
   ]
  },
  {
   "cell_type": "code",
   "execution_count": 49,
   "metadata": {},
   "outputs": [
    {
     "data": {
      "text/plain": [
       "array([0, 1, 1, 1, 0, 0, 0, 0, 0, 1, 1, 1, 0, 1, 0, 0, 1, 0, 0, 1, 1, 1,\n",
       "       1, 1, 0, 1, 1, 0, 1, 1, 1, 0, 0, 0, 0, 0, 0, 1, 0, 1, 1, 0, 0, 1,\n",
       "       1, 1, 1, 0, 0, 0, 1, 0, 1, 1, 0, 0, 0, 1, 0, 0, 0, 0, 1, 0, 0, 1,\n",
       "       0, 1, 1, 1, 1, 0, 1, 1, 0, 1, 0, 0, 0, 1, 1, 1, 0, 1, 1, 0, 0, 1,\n",
       "       1, 1, 1, 1, 0, 0, 0, 0, 0, 1, 0, 1])"
      ]
     },
     "execution_count": 49,
     "metadata": {},
     "output_type": "execute_result"
    }
   ],
   "source": [
    "classification_labels #+ метки принадлежности к классу"
   ]
  },
  {
   "cell_type": "code",
   "execution_count": 50,
   "metadata": {
    "colab": {
     "base_uri": "https://localhost:8080/",
     "height": 501
    },
    "colab_type": "code",
    "executionInfo": {
     "elapsed": 1579,
     "status": "ok",
     "timestamp": 1576241785538,
     "user": {
      "displayName": "Victor Sergevnin",
      "photoUrl": "",
      "userId": "00795386645800606002"
     },
     "user_tz": -180
    },
    "id": "FHpOr1k6abXg",
    "outputId": "076d8a8e-c6f4-4296-a571-c1570c7991df",
    "scrolled": false
   },
   "outputs": [
    {
     "data": {
      "image/png": "[encoded data removed]",
      "text/plain": [
       "<Figure size 576x576 with 1 Axes>"
      ]
     },
     "metadata": {
      "needs_background": "light"
     },
     "output_type": "display_data"
    }
   ],
   "source": [
    "# визуализируем сгенерированные данные\n",
    "\n",
    "colors = ListedColormap(['red', 'blue'])\n",
    "light_colors = ListedColormap(['lightcoral', 'lightblue'])\n",
    "\n",
    "plt.figure(figsize=(8,8))\n",
    "plt.scatter(list(map(lambda x: x[0], classification_data)), list(map(lambda x: x[1], classification_data)), \n",
    "              c=classification_labels, cmap=colors);"
   ]
  },
  {
   "cell_type": "code",
   "execution_count": 51,
   "metadata": {
    "colab": {},
    "colab_type": "code",
    "id": "Duu45IJUabXi"
   },
   "outputs": [],
   "source": [
    "# Реализуем класс узла\n",
    "\n",
    "class Node:\n",
    "    \n",
    "    def __init__(self, index, t, true_branch, false_branch, depth_max):\n",
    "        self.index = index  # индекс признака, по которому ведется сравнение с порогом в этом узле\n",
    "        self.t = t  # значение порога\n",
    "        self.true_branch = true_branch  # поддерево, удовлетворяющее условию в узле\n",
    "        self.false_branch = false_branch  # поддерево, не удовлетворяющее условию в узле\n",
    "        self.depth_max =  depth_max\n"
   ]
  },
  {
   "cell_type": "code",
   "execution_count": 52,
   "metadata": {
    "colab": {},
    "colab_type": "code",
    "id": "QY8oNtakabXl"
   },
   "outputs": [],
   "source": [
    "# И класс терминального узла (листа)\n",
    "\n",
    "class Leaf:\n",
    "    \n",
    "    def __init__(self, data, labels,  depth_max):\n",
    "        self.data = data\n",
    "        self.labels = labels\n",
    "        self.prediction = self.predict()\n",
    "        self.depth_max =  depth_max\n",
    "      \n",
    "    def predict(self):\n",
    "        # подсчет количества объектов разных классов\n",
    "        classes = {}  # сформируем словарь \"класс: количество объектов\"\n",
    "        for label in self.labels:\n",
    "            if label not in classes:\n",
    "                classes[label] = 0\n",
    "            classes[label] += 1\n",
    "        #  найдем класс, количество объектов которого будет максимальным в этом листе и вернем его    \n",
    "        prediction = max(classes, key=classes.get)\n",
    "        return prediction        "
   ]
  },
  {
   "cell_type": "code",
   "execution_count": 53,
   "metadata": {
    "colab": {},
    "colab_type": "code",
    "id": "uBdli3WDabXn"
   },
   "outputs": [],
   "source": [
    "# Расчет критерия Джини\n",
    "\n",
    "def gini(labels): # 70 объектов тренировочной выборки\n",
    "    #  подсчет количества объектов разных классов\n",
    "    classes = {} # добавляет в словарь кол-во объектов класса 1 и кол-во объектов класса 0\n",
    "    for label in labels:\n",
    "        if label not in classes:\n",
    "            classes[label] = 0\n",
    "        classes[label] += 1\n",
    "    \n",
    "    #  расчет критерия\n",
    "    impurity = 1 # коэффициент неопределенности Джини (установлен по дефолту)\n",
    "    for label in classes:\n",
    "        p = classes[label] / len(labels) # кол-во объектов одного класса / кол-во всех объектов двух классов (35/70 =0,5)\n",
    "        impurity -= p ** 2 # вероятность возводится в квадрат и вычитается из коэф неопр. Джинни (1-0,5*0,5=0,75)\n",
    "        # затем кол-во объектов противоположного класса / кол-во всех объектов (35/70=0,5), \n",
    "        #возводится в квадрат и вычитается из предыдущего значения impurity 0,75 -0,5**2  = 0,5\n",
    "        \n",
    "        \n",
    "    return impurity #критерий Джинни = 0,5"
   ]
  },
  {
   "cell_type": "code",
   "execution_count": 54,
   "metadata": {
    "colab": {},
    "colab_type": "code",
    "id": "9vvLDhuRabXr"
   },
   "outputs": [],
   "source": [
    "# Расчет качества\n",
    "\n",
    "def quality(left_labels, right_labels, current_gini): #5 left[0,0,0,0,0] , \n",
    "    #65 right[0,1,1,1,0,1,0,1,1,1,0,0,1...] gini = 0.5\n",
    "\n",
    "    # доля выбоки, ушедшая в левое поддерево\n",
    "    p = float(left_labels.shape[0]) / (left_labels.shape[0] + right_labels.shape[0]) # p=  5 / (5+65) =0,0714285714285714\n",
    "    \n",
    "    return current_gini - p * gini(left_labels) - (1 - p) * gini(right_labels) # 0.5 - 0,07142857* .. пересчитываем коэф. Джинни и возвращаем для сравнения"
   ]
  },
  {
   "cell_type": "code",
   "execution_count": 55,
   "metadata": {
    "colab": {},
    "colab_type": "code",
    "id": "nhWkphi3abXt"
   },
   "outputs": [],
   "source": [
    "# Разбиение датасета в узле\n",
    "\n",
    "def split(data, labels, index, t): # передача признаков x, значений (принадлежности к классу) y,\n",
    "    #индекс признака (1 или 2), уникальное значение объекта в массиве объектов признака\n",
    "    \n",
    "    left = np.where(data[:, index] <= t)#берет в первой итерации по признаку 1 все значения и ищет \n",
    "    #номер индекса, где значение превышает t (например 2.1016 в позиции 44). или несколько индексов превышения (44,49)\n",
    "    #Таким образом в левую выборку попадает 44 значения по критерию t<=2.1016\n",
    "    right = np.where(data[:, index] > t) # на противоположный край попадет 26 значений\n",
    "        \n",
    "    true_data = data[left] # правильные значения [[-2.1016,-1.9910]] по 44 позиции\n",
    "    false_data = data[right] # ложные значения все что ниже 44 позиции\n",
    "    true_labels = labels[left] # на примере 1 итерации относится к классу 0\n",
    "    false_labels = labels[right] # остальные массив значений 1 и 0\n",
    "        \n",
    "    return true_data, false_data, true_labels, false_labels"
   ]
  },
  {
   "cell_type": "markdown",
   "metadata": {},
   "source": [
    "### Добавлен критрерий на кол-во объектов листа"
   ]
  },
  {
   "cell_type": "code",
   "execution_count": 56,
   "metadata": {
    "colab": {},
    "colab_type": "code",
    "id": "5wi8Fbs_abXw"
   },
   "outputs": [],
   "source": [
    "# Нахождение наилучшего разбиения\n",
    "\n",
    "def find_best_split(data, labels, min_leaf2): # 70% значений X и 70% значений y\n",
    "    \n",
    "    #  обозначим минимальное количество объектов в узле\n",
    "    min_leaf = min_leaf2\n",
    "\n",
    "    current_gini = gini(labels) # переход в функцию расчета коэф. Джинни (возврат 0,5)\n",
    "\n",
    "    best_quality = 0 # дефолтно  = 0\n",
    "    best_t = None #  значение не задано\n",
    "    best_index = None # значение не задано\n",
    "    \n",
    "    n_features = data.shape[1] # кол-во признаков, в примере = 2\n",
    "    \n",
    "    for index in range(n_features):\n",
    "        # будем проверять только уникальные значения признака, исключая повторения\n",
    "        t_values = np.unique([row[index] for row in data]) # уникальные пороговые значения t, признака 0 и 1\n",
    "        \n",
    "        for t in t_values:\n",
    "            true_data, false_data, true_labels, false_labels = split(data, labels, index, t)# переход в функцию разделения\n",
    "            #true_data правильные значения [[-2.1016,-1.9910]] по 44 позиции / или если 44,49 [[-2.1016,-1.9910],[-1.79,1.41]]\n",
    "            # false_data ложные значения все что ниже и выше 44 позиции, массив значений  / или ложные значения все что ниже и выше 44,49\n",
    "            #true_labels на примере 1 итерации относится к классу 0 / или если 44,49 : 0,0\n",
    "            # false_labels остальные массив значений 1 и 0\n",
    "            \n",
    "            \n",
    "            #  пропускаем разбиения, в которых в узле остается менее 5 объектов\n",
    "            if len(true_data) < min_leaf or len(false_data) < min_leaf: # 1 < 5 или 69 < 5 / или если 44,49: 2 < 5 или 68 < 5\n",
    "                continue\n",
    "            \n",
    "            current_quality = quality(true_labels, false_labels, current_gini) # если больше 5 попало при определенном разделении,то\n",
    "            # переходим в функцию расчета качества и получаем новый коэфф Джинни с учетом текщего разделения\n",
    "            \n",
    "            \n",
    "            #  выбираем порог, на котором получается максимальный прирост качества\n",
    "            if current_quality > best_quality:\n",
    "                best_quality, best_t, best_index = current_quality, t, index\n",
    "\n",
    "    return best_quality, best_t, best_index"
   ]
  },
  {
   "cell_type": "markdown",
   "metadata": {},
   "source": [
    "### Добавлен критерий останова на глубину дерева и кол-во объектов на листе"
   ]
  },
  {
   "cell_type": "code",
   "execution_count": 113,
   "metadata": {
    "colab": {},
    "colab_type": "code",
    "id": "f1__qSXSabXy"
   },
   "outputs": [],
   "source": [
    "# Построение дерева с помощью рекурсивной функции\n",
    "\n",
    "def build_tree(data, labels, min_leaf2, depth_max, depth_incr = 0):\n",
    "\n",
    "    quality, t, index = find_best_split(data, labels,min_leaf2)\n",
    "\n",
    "    #  Базовый случай - прекращаем рекурсию, когда нет прироста в качества\n",
    "    if quality == 0 or depth_incr >=depth_max:\n",
    "        if depth_incr>=depth_max:\n",
    "            print(f\"Дерево с глубиной {depth_incr} построено\")\n",
    "        return Leaf(data, labels,depth_max )\n",
    "\n",
    "    true_data, false_data, true_labels, false_labels = split(data, labels, index, t)\n",
    "\n",
    "    # Рекурсивно строим два поддерева\n",
    "\n",
    "    depth_incr = depth_incr + 1\n",
    "    print(\"уровень дерева = \", depth_incr)\n",
    "    true_branch = build_tree(true_data, true_labels,min_leaf2,depth_max,depth_incr)\n",
    "    false_branch = build_tree(false_data, false_labels,min_leaf2,depth_max,depth_incr)\n",
    "\n",
    "    # Возвращаем класс узла со всеми поддеревьями, то есть целого дерева\n",
    "    return Node(index, t, true_branch, false_branch,depth_max)"
   ]
  },
  {
   "cell_type": "code",
   "execution_count": 114,
   "metadata": {
    "colab": {},
    "colab_type": "code",
    "id": "F7ruKazCabX3"
   },
   "outputs": [],
   "source": [
    "def classify_object(obj, node):\n",
    "\n",
    "    #  Останавливаем рекурсию, если достигли листа\n",
    "    if isinstance(node, Leaf):\n",
    "        answer = node.prediction\n",
    "        return answer\n",
    "\n",
    "    if obj[node.index] <= node.t:\n",
    "        return classify_object(obj, node.true_branch)\n",
    "    else:\n",
    "        return classify_object(obj, node.false_branch)"
   ]
  },
  {
   "cell_type": "code",
   "execution_count": 115,
   "metadata": {
    "colab": {},
    "colab_type": "code",
    "id": "SLOdTAqdabX7"
   },
   "outputs": [],
   "source": [
    "def predict(data, tree):\n",
    "    \n",
    "    classes = []\n",
    "    for obj in data:\n",
    "        prediction = classify_object(obj, tree)\n",
    "        classes.append(prediction)\n",
    "    return classes"
   ]
  },
  {
   "cell_type": "code",
   "execution_count": 116,
   "metadata": {
    "colab": {},
    "colab_type": "code",
    "id": "wnDPkwVJabYA"
   },
   "outputs": [],
   "source": [
    "# Разобьем выборку на обучающую и тестовую\n",
    "\n",
    "from sklearn import model_selection\n",
    "# сгенерированную выборку разобьем на тренировочную и тестовую\n",
    "train_data, test_data, train_labels, test_labels = model_selection.train_test_split(classification_data, \n",
    "                                                                                     classification_labels, \n",
    "                                                                                     test_size = 0.3,\n",
    "                                                                                     random_state = 1)"
   ]
  },
  {
   "cell_type": "code",
   "execution_count": 139,
   "metadata": {
    "colab": {},
    "colab_type": "code",
    "id": "UbbvkqvOabYD"
   },
   "outputs": [
    {
     "name": "stdout",
     "output_type": "stream",
     "text": [
      "уровень дерева =  1\n",
      "уровень дерева =  2\n",
      "Дерево с глубиной 2 построено\n",
      "Дерево с глубиной 2 построено\n"
     ]
    }
   ],
   "source": [
    "# Построим дерево по обучающей выборке\n",
    "my_tree = build_tree(train_data, train_labels,min_leaf2=2,depth_max=2)"
   ]
  },
  {
   "cell_type": "code",
   "execution_count": 140,
   "metadata": {
    "colab": {
     "base_uri": "https://localhost:8080/",
     "height": 311
    },
    "colab_type": "code",
    "executionInfo": {
     "elapsed": 1893,
     "status": "ok",
     "timestamp": 1576241785980,
     "user": {
      "displayName": "Victor Sergevnin",
      "photoUrl": "",
      "userId": "00795386645800606002"
     },
     "user_tz": -180
    },
    "id": "GF1rVs9VabYG",
    "outputId": "2f7d40ba-e20d-4b45-c7c5-9d4d15cba329"
   },
   "outputs": [
    {
     "name": "stdout",
     "output_type": "stream",
     "text": [
      "Индекс 0\n",
      "Порог 0.16261402870113306\n",
      "--> True:\n",
      "  Индекс 1\n",
      "  Порог -1.5208896621663803\n",
      "  --> True:\n",
      "    Прогноз: 0\n",
      "  --> False:\n",
      "    Прогноз: 0\n",
      "--> False:\n",
      "  Прогноз: 1\n"
     ]
    }
   ],
   "source": [
    "# Напечатаем ход нашего дерева\n",
    "def print_tree(node, spacing=\"\"):\n",
    "\n",
    "    # Если лист, то выводим его прогноз\n",
    "    if isinstance(node, Leaf):\n",
    "        print(spacing + \"Прогноз:\", node.prediction)\n",
    "        return\n",
    "\n",
    "    # Выведем значение индекса и порога на этом узле\n",
    "    print(spacing + 'Индекс', str(node.index))\n",
    "    print(spacing + 'Порог', str(node.t))\n",
    "\n",
    "    # Рекурсионный вызов функции на положительном поддереве\n",
    "    print (spacing + '--> True:')\n",
    "    print_tree(node.true_branch, spacing + \"  \")\n",
    "\n",
    "    # Рекурсионный вызов функции на положительном поддереве\n",
    "    print (spacing + '--> False:')\n",
    "    print_tree(node.false_branch, spacing + \"  \")\n",
    "    \n",
    "print_tree(my_tree)"
   ]
  },
  {
   "cell_type": "code",
   "execution_count": 141,
   "metadata": {
    "colab": {},
    "colab_type": "code",
    "id": "CyvzFQp3abYI"
   },
   "outputs": [],
   "source": [
    "# Получим ответы для обучающей выборки \n",
    "train_answers = predict(train_data, my_tree)"
   ]
  },
  {
   "cell_type": "code",
   "execution_count": 142,
   "metadata": {
    "colab": {},
    "colab_type": "code",
    "id": "Rl6IyN8yabYN"
   },
   "outputs": [],
   "source": [
    "# И получим ответы для тестовой выборки\n",
    "answers = predict(test_data, my_tree)"
   ]
  },
  {
   "cell_type": "code",
   "execution_count": 143,
   "metadata": {
    "colab": {},
    "colab_type": "code",
    "id": "2odXAe7vabYP"
   },
   "outputs": [],
   "source": [
    "# Введем функцию подсчета точности как доли правильных ответов\n",
    "def accuracy_metric(actual, predicted):\n",
    "    correct = 0\n",
    "    for i in range(len(actual)):\n",
    "        if actual[i] == predicted[i]:\n",
    "            correct += 1\n",
    "    return correct / float(len(actual)) * 100.0"
   ]
  },
  {
   "cell_type": "code",
   "execution_count": 144,
   "metadata": {
    "colab": {
     "base_uri": "https://localhost:8080/",
     "height": 35
    },
    "colab_type": "code",
    "executionInfo": {
     "elapsed": 1857,
     "status": "ok",
     "timestamp": 1576241785989,
     "user": {
      "displayName": "Victor Sergevnin",
      "photoUrl": "",
      "userId": "00795386645800606002"
     },
     "user_tz": -180
    },
    "id": "Jn0L6r8CabYS",
    "outputId": "200858a7-20de-494e-eec5-507ff7d79ae8"
   },
   "outputs": [
    {
     "data": {
      "text/plain": [
       "92.85714285714286"
      ]
     },
     "execution_count": 144,
     "metadata": {},
     "output_type": "execute_result"
    }
   ],
   "source": [
    "# Точность на обучающей выборке\n",
    "train_accuracy = accuracy_metric(train_labels, train_answers)\n",
    "train_accuracy"
   ]
  },
  {
   "cell_type": "code",
   "execution_count": 145,
   "metadata": {
    "colab": {
     "base_uri": "https://localhost:8080/",
     "height": 35
    },
    "colab_type": "code",
    "executionInfo": {
     "elapsed": 1840,
     "status": "ok",
     "timestamp": 1576241785991,
     "user": {
      "displayName": "Victor Sergevnin",
      "photoUrl": "",
      "userId": "00795386645800606002"
     },
     "user_tz": -180
    },
    "id": "D__eGtLRabYU",
    "outputId": "7b116cd2-da9f-4752-e28e-2dfc279d88d3"
   },
   "outputs": [
    {
     "data": {
      "text/plain": [
       "96.66666666666667"
      ]
     },
     "execution_count": 145,
     "metadata": {},
     "output_type": "execute_result"
    }
   ],
   "source": [
    "# Точность на тестовой выборке\n",
    "test_accuracy = accuracy_metric(test_labels, answers)\n",
    "test_accuracy"
   ]
  },
  {
   "cell_type": "code",
   "execution_count": 146,
   "metadata": {
    "colab": {
     "base_uri": "https://localhost:8080/",
     "height": 462
    },
    "colab_type": "code",
    "executionInfo": {
     "elapsed": 2384,
     "status": "ok",
     "timestamp": 1576241786553,
     "user": {
      "displayName": "Victor Sergevnin",
      "photoUrl": "",
      "userId": "00795386645800606002"
     },
     "user_tz": -180
    },
    "id": "TEHbV9hXabYW",
    "outputId": "17ac3229-63c1-4542-ed42-290ba6377af1"
   },
   "outputs": [
    {
     "name": "stderr",
     "output_type": "stream",
     "text": [
      "<ipython-input-146-76f9302d78af>:14: MatplotlibDeprecationWarning: shading='flat' when X and Y have the same dimensions as C is deprecated since 3.3.  Either specify the corners of the quadrilaterals with X and Y, or pass shading='auto', 'nearest' or 'gouraud', or set rcParams['pcolor.shading'].  This will become an error two minor releases later.\n",
      "  plt.pcolormesh(xx, yy, mesh_predictions, cmap = light_colors)\n",
      "<ipython-input-146-76f9302d78af>:20: MatplotlibDeprecationWarning: shading='flat' when X and Y have the same dimensions as C is deprecated since 3.3.  Either specify the corners of the quadrilaterals with X and Y, or pass shading='auto', 'nearest' or 'gouraud', or set rcParams['pcolor.shading'].  This will become an error two minor releases later.\n",
      "  plt.pcolormesh(xx, yy, mesh_predictions, cmap = light_colors)\n"
     ]
    },
    {
     "data": {
      "text/plain": [
       "Text(0.5, 1.0, 'Test accuracy=96.67')"
      ]
     },
     "execution_count": 146,
     "metadata": {},
     "output_type": "execute_result"
    },
    {
     "data": {
      "image/png": "[encoded data removed]",
      "text/plain": [
       "<Figure size 1152x504 with 2 Axes>"
      ]
     },
     "metadata": {
      "needs_background": "light"
     },
     "output_type": "display_data"
    }
   ],
   "source": [
    "# Визуализируем дерево на графике\n",
    "\n",
    "def get_meshgrid(data, step=.05, border=1.2):\n",
    "    x_min, x_max = data[:, 0].min() - border, data[:, 0].max() + border\n",
    "    y_min, y_max = data[:, 1].min() - border, data[:, 1].max() + border\n",
    "    return np.meshgrid(np.arange(x_min, x_max, step), np.arange(y_min, y_max, step))\n",
    "\n",
    "plt.figure(figsize = (16, 7))\n",
    "\n",
    "# график обучающей выборки\n",
    "plt.subplot(1,2,1)\n",
    "xx, yy = get_meshgrid(train_data)\n",
    "mesh_predictions = np.array(predict(np.c_[xx.ravel(), yy.ravel()], my_tree)).reshape(xx.shape)\n",
    "plt.pcolormesh(xx, yy, mesh_predictions, cmap = light_colors)\n",
    "plt.scatter(train_data[:, 0], train_data[:, 1], c = train_labels, cmap = colors)\n",
    "plt.title(f'Train accuracy={train_accuracy:.2f}')\n",
    "\n",
    "# график тестовой выборки\n",
    "plt.subplot(1,2,2)\n",
    "plt.pcolormesh(xx, yy, mesh_predictions, cmap = light_colors)\n",
    "plt.scatter(test_data[:, 0], test_data[:, 1], c = test_labels, cmap = colors)\n",
    "plt.title(f'Test accuracy={test_accuracy:.2f}')"
   ]
  }
 ],
 "metadata": {
  "colab": {
   "collapsed_sections": [],
   "name": "Lesson_4.ipynb",
   "provenance": []
  },
  "kernelspec": {
   "display_name": "Python 3",
   "language": "python",
   "name": "python3"
  },
  "language_info": {
   "codemirror_mode": {
    "name": "ipython",
    "version": 3
   },
   "file_extension": ".py",
   "mimetype": "text/x-python",
   "name": "python",
   "nbconvert_exporter": "python",
   "pygments_lexer": "ipython3",
   "version": "3.8.3"
  },
  "toc": {
   "base_numbering": 1,
   "nav_menu": {},
   "number_sections": false,
   "sideBar": true,
   "skip_h1_title": true,
   "title_cell": "Содержание",
   "title_sidebar": "Содержание",
   "toc_cell": false,
   "toc_position": {},
   "toc_section_display": true,
   "toc_window_display": false
  }
 },
 "nbformat": 4,
 "nbformat_minor": 1
}
