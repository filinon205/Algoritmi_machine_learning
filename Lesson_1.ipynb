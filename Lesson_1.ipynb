{
 "cells": [
  {
   "cell_type": "markdown",
   "metadata": {},
   "source": [
    "## Урок 1. Алгоритм линейной регрессии. \n",
    "## Градиентный спуск"
   ]
  },
  {
   "cell_type": "code",
   "execution_count": 1,
   "metadata": {
    "colab": {},
    "colab_type": "code",
    "id": "ak8b3KV45kVW"
   },
   "outputs": [],
   "source": [
    "import numpy as np\n",
    "import matplotlib.pyplot as plt\n",
    "plt.rcParams.update({'font.size': 14})"
   ]
  },
  {
   "cell_type": "markdown",
   "metadata": {},
   "source": [
    "### Домашние задания"
   ]
  },
  {
   "cell_type": "markdown",
   "metadata": {
    "colab_type": "text",
    "id": "huXrhXQsZTMt"
   },
   "source": [
    "-1. Подберите скорость обучения (alpha) и количество итераций:\n",
    "\n",
    "-3*. Вместо того, чтобы задавать количество итераций, задайте условие остановки алгоритма - когда ошибка за итерацию начинает изменяться ниже определенного порога"
   ]
  },
  {
   "cell_type": "code",
   "execution_count": 2,
   "metadata": {},
   "outputs": [
    {
     "data": {
      "text/plain": [
       "(2, 10)"
      ]
     },
     "execution_count": 2,
     "metadata": {},
     "output_type": "execute_result"
    }
   ],
   "source": [
    "X = np.array([[1, 1, 1, 1, 1, 1, 1, 1, 1, 1],   # для умножения на intercept\n",
    "              [1, 1, 2, 1, 3, 0, 5, 10, 1, 2]]) # стаж\n",
    "X.shape"
   ]
  },
  {
   "cell_type": "code",
   "execution_count": 3,
   "metadata": {},
   "outputs": [],
   "source": [
    "# средний балл ЕГЭ (целевая переменная)\n",
    "y = [45, 55, 50, 59, 65, 35, 75, 80, 50, 60]"
   ]
  },
  {
   "cell_type": "code",
   "execution_count": 4,
   "metadata": {},
   "outputs": [],
   "source": [
    "def calc_mse(y, y_pred):\n",
    "    err = np.mean((y - y_pred)**2)\n",
    "    return err\n",
    "\n",
    "def calc_mae(y, y_pred):\n",
    "    err = np.mean(np.abs(y - y_pred))\n",
    "    return err"
   ]
  },
  {
   "cell_type": "code",
   "execution_count": 5,
   "metadata": {
    "colab": {
     "base_uri": "https://localhost:8080/",
     "height": 185
    },
    "colab_type": "code",
    "id": "IDB22MQKMYaJ",
    "outputId": "4c03219e-a57c-4583-f439-6699fd0619bb"
   },
   "outputs": [
    {
     "name": "stdout",
     "output_type": "stream",
     "text": [
      "Итерация спуска:654 является финальной, поскольку отклонение весов: [47.18475239  3.9194653 ] не превышает 0.005, при этом mse =45.938732917708435, значение степени альфа 1*10-2\n",
      "Итерация спуска:4345 является финальной, поскольку отклонение весов: [46.75204565  3.99936791] не превышает 0.005, при этом mse =46.061675355890756, значение степени альфа 1*10-3\n",
      "Итерация спуска:21313 является финальной, поскольку отклонение весов: [42.42438906  4.7985028 ] не превышает 0.005, при этом mse =58.366843766218004, значение степени альфа 1*10-4\n",
      "Лучшее значение альфы наблюдается при итерации 654: ['весы: [47.18475239  3.9194653 ]', 'mse:45.938732917708435', 'значение степени альфа: 1*10-2']\n"
     ]
    }
   ],
   "source": [
    "n = X.shape[1] # вектор признаков\n",
    "schetchik=[]\n",
    "final={}\n",
    "for  k in range(2,5,1):\n",
    "    alpha = 1 * (10**-k)  # подобрать оптимальную скорость спуска (коэффициент)\n",
    "    w = np.array([1, 0.5]) # значения весов  W0, W1\n",
    "\n",
    "    # найти такую итерацию спуска, при которой вектора весов от шага к шагу изменяются незначительно (не более 0,005)\n",
    "    v = 100000\n",
    "    spisok_w = []\n",
    "    for i in range(v): # кол-во итераций для спуска\n",
    "        y_pred = np.dot(w, X) # перемножение вектора весов на матрицу признаков, получаем предсказанные значения\n",
    "        err = calc_mse(y, y_pred) # вызываем функцию ошибки mse по отношению к реальным значениям\n",
    "        for j in range(w.shape[0]): # для каждого стобца весов в длине вектора вытаскиваем порядковый номер веса Wk\n",
    "            w[j] -= alpha * (1/n * 2 * np.sum(X[j] * (y_pred - y))) # из веса 1 ,а затем веса 2 вычитаем скорость спуска * \n",
    "                                                                    # * (1 / кол-во признаков * 2 * сумму(признак j * \n",
    "                                                                    # *(Предсказанное значение y - реальное значение)))\n",
    "\n",
    "       # if i  % 100 == 0: # для значений кратных 100 выводим значение итерации спуска, веса W0, W1 и среднеквадратичное отклонение\n",
    "           # print(i, w, err)\n",
    "        i += 1 \n",
    "        spisok_w.append(w.copy())\n",
    "        if i == 1:\n",
    "                w_0 = spisok_w[0][0] - 0\n",
    "                w_1 = spisok_w[0][1] - 0\n",
    "        else:\n",
    "            w_0 = spisok_w[i-1][0] - spisok_w[i-2][0]\n",
    "            w_1 = spisok_w[i-1][1] - spisok_w[i-2][1]\n",
    "        if abs(w_0) < 0.0005 and abs(w_1) <0.0005:\n",
    "            print(f\"Итерация спуска:{i} является финальной, поскольку отклонение весов: {w} не превышает 0.005, при этом mse ={err}, значение степени альфа 1*10-{k}\")\n",
    "            schetchik.append(i)\n",
    "            final[i] = [f'весы: {w}', f'mse:{err}', f'значение степени альфа: 1*10-{k}']\n",
    "\n",
    "            break\n",
    "            \n",
    "schetchik.sort()\n",
    "min_ = schetchik[0]\n",
    "print(f\"Лучшее значение альфы наблюдается при итерации {min_}: {final.get(min_)}\")"
   ]
  },
  {
   "cell_type": "markdown",
   "metadata": {
    "colab_type": "text",
    "id": "5Qu1o4JhZYwI"
   },
   "source": [
    "*2. В этом коде мы избавляемся от итераций по весам, но тут есть ошибка, исправьте ее:"
   ]
  },
  {
   "cell_type": "code",
   "execution_count": 29,
   "metadata": {
    "colab": {
     "base_uri": "https://localhost:8080/",
     "height": 185
    },
    "colab_type": "code",
    "id": "WZZzDCQLY4pA",
    "outputId": "28f58ade-72f2-4381-809d-2417752d56e4"
   },
   "outputs": [
    {
     "name": "stdout",
     "output_type": "stream",
     "text": [
      "0 [1.4502 0.9502] 3173.15\n",
      "100 [11.6740207 11.1740207] 737.5884748924025\n",
      "200 [11.82000082 11.32000082] 737.0919281764903\n",
      "300 [11.82208519 11.32208519] 737.0918269437198\n",
      "400 [11.82211495 11.32211495] 737.0918269230813\n",
      "500 [11.82211538 11.32211538] 737.0918269230768\n",
      "600 [11.82211538 11.32211538] 737.0918269230768\n",
      "700 [11.82211538 11.32211538] 737.091826923077\n",
      "800 [11.82211538 11.32211538] 737.0918269230768\n",
      "900 [11.82211538 11.32211538] 737.0918269230768\n"
     ]
    }
   ],
   "source": [
    "w = np.array([1, 0.5])\n",
    "\n",
    "for i in range(1000):\n",
    "    y_pred = np.dot(w, X)\n",
    "    err = calc_mse(y, y_pred)\n",
    "    '''for j in range(W.shape[0]):\n",
    "        W[j] -= alpha * (1/n * 2 * np.sum(X[j] * (y_pred - y)))'''\n",
    "    w -= (alpha * (1/n * 2 * np.sum(X * (y_pred - y))))\n",
    "    if i % 100 == 0:\n",
    "        print(i, w, err)"
   ]
  },
  {
   "cell_type": "code",
   "execution_count": null,
   "metadata": {},
   "outputs": [],
   "source": []
  },
  {
   "cell_type": "markdown",
   "metadata": {
    "colab": {},
    "colab_type": "code",
    "id": "kGLyytFgHdco"
   },
   "source": []
  }
 ],
 "metadata": {
  "colab": {
   "collapsed_sections": [],
   "name": "Lesson1.ipynb",
   "provenance": []
  },
  "kernelspec": {
   "display_name": "Python 3",
   "language": "python",
   "name": "python3"
  },
  "language_info": {
   "codemirror_mode": {
    "name": "ipython",
    "version": 3
   },
   "file_extension": ".py",
   "mimetype": "text/x-python",
   "name": "python",
   "nbconvert_exporter": "python",
   "pygments_lexer": "ipython3",
   "version": "3.8.3"
  },
  "toc": {
   "base_numbering": 1,
   "nav_menu": {},
   "number_sections": false,
   "sideBar": true,
   "skip_h1_title": true,
   "title_cell": "Содержание",
   "title_sidebar": "Содержание",
   "toc_cell": false,
   "toc_position": {},
   "toc_section_display": true,
   "toc_window_display": false
  }
 },
 "nbformat": 4,
 "nbformat_minor": 1
}
