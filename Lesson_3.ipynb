{
 "cells": [
  {
   "cell_type": "markdown",
   "metadata": {
    "colab": {},
    "colab_type": "code",
    "id": "Mbwxo9NqbLJy"
   },
   "source": [
    "### Домашние задания"
   ]
  },
  {
   "cell_type": "markdown",
   "metadata": {},
   "source": [
    "### Урок 3. Логистическая регрессия. Log Loss"
   ]
  },
  {
   "cell_type": "code",
   "execution_count": 1,
   "metadata": {
    "colab": {},
    "colab_type": "code",
    "id": "zhwkeWtb1O0w"
   },
   "outputs": [],
   "source": [
    "import numpy as np\n",
    "import matplotlib.pyplot as plt\n",
    "import seaborn as sns\n",
    "sns.set(style=\"whitegrid\")\n",
    "sns.set_context(\"paper\", font_scale=2) "
   ]
  },
  {
   "cell_type": "code",
   "execution_count": 2,
   "metadata": {
    "colab": {},
    "colab_type": "code",
    "id": "zhwkeWtb1O0w"
   },
   "outputs": [],
   "source": [
    "%matplotlib inline\n",
    "plt.style.use('seaborn-ticks')\n",
    "plt.rcParams.update({'font.size': 14})"
   ]
  },
  {
   "cell_type": "code",
   "execution_count": 3,
   "metadata": {
    "colab": {},
    "colab_type": "code",
    "id": "FeKFn2yb1To4"
   },
   "outputs": [],
   "source": [
    "X = np.array([[1, 1, 1, 1, 1, 1, 1, 1, 1, 1],\n",
    "              [1, 1, 2, 1, 3, 0, 5, 10, 1, 2],  # стаж\n",
    "              [500, 700, 750, 600, 1450,        # средняя стоимость занятия\n",
    "               800, 1500, 2000, 450, 1000],\n",
    "              [1, 1, 2, 1, 2, 1, 3, 3, 1, 2]], dtype = np.float64) # квалификация репетитора\n",
    "\n",
    "y = np.array([0, 0, 1, 0, 1, 0, 1, 0, 1, 1]) # подходит или нет репетитор"
   ]
  },
  {
   "cell_type": "code",
   "execution_count": 9,
   "metadata": {
    "colab": {
     "base_uri": "https://localhost:8080/",
     "height": 155
    },
    "colab_type": "code",
    "id": "yXSj4nbxHsFd",
    "outputId": "8d102d54-94bf-4acc-d5b8-d60da152b953"
   },
   "outputs": [
    {
     "data": {
      "text/plain": [
       "array([[1.00e+00, 1.00e+00, 1.00e+00, 1.00e+00, 1.00e+00, 1.00e+00,\n",
       "        1.00e+00, 1.00e+00, 1.00e+00, 1.00e+00],\n",
       "       [1.00e+00, 1.00e+00, 2.00e+00, 1.00e+00, 3.00e+00, 0.00e+00,\n",
       "        5.00e+00, 1.00e+01, 1.00e+00, 2.00e+00],\n",
       "       [5.00e+02, 7.00e+02, 7.50e+02, 6.00e+02, 1.45e+03, 8.00e+02,\n",
       "        1.50e+03, 2.00e+03, 4.50e+02, 1.00e+03],\n",
       "       [1.00e+00, 1.00e+00, 2.00e+00, 1.00e+00, 2.00e+00, 1.00e+00,\n",
       "        3.00e+00, 3.00e+00, 1.00e+00, 2.00e+00]])"
      ]
     },
     "execution_count": 9,
     "metadata": {},
     "output_type": "execute_result"
    }
   ],
   "source": [
    "X"
   ]
  },
  {
   "cell_type": "code",
   "execution_count": 10,
   "metadata": {
    "colab": {
     "base_uri": "https://localhost:8080/",
     "height": 34
    },
    "colab_type": "code",
    "id": "QU0A16vZHugZ",
    "outputId": "71d74b95-77f4-41a7-e339-c9e7b2004e4b"
   },
   "outputs": [
    {
     "data": {
      "text/plain": [
       "array([0, 0, 1, 0, 1, 0, 1, 0, 1, 1])"
      ]
     },
     "execution_count": 10,
     "metadata": {},
     "output_type": "execute_result"
    }
   ],
   "source": [
    "y"
   ]
  },
  {
   "cell_type": "code",
   "execution_count": 11,
   "metadata": {
    "colab": {},
    "colab_type": "code",
    "id": "M-aO1NTxOUfo"
   },
   "outputs": [
    {
     "data": {
      "text/plain": [
       "array([-0.97958969, -0.56713087, -0.46401617, -0.77336028,  0.97958969,\n",
       "       -0.36090146,  1.08270439,  2.11385144, -1.08270439,  0.05155735])"
      ]
     },
     "execution_count": 11,
     "metadata": {},
     "output_type": "execute_result"
    }
   ],
   "source": [
    "def calc_std_feat(x):\n",
    "    res = (x - x.mean()) / x.std()\n",
    "    return res\n",
    "\n",
    "X_st = X.copy()\n",
    "X_st[2, :] = calc_std_feat(X[2, :])\n",
    "X_st[2, :]"
   ]
  },
  {
   "cell_type": "markdown",
   "metadata": {},
   "source": [
    "$$Logloss=-y \\ln(p) - (1-y)\\ln(1-p)$$"
   ]
  },
  {
   "cell_type": "code",
   "execution_count": 12,
   "metadata": {
    "colab": {},
    "colab_type": "code",
    "id": "qMR5pOA38dDw"
   },
   "outputs": [],
   "source": [
    "def calc_logloss(y, y_pred): # Оценка модели\n",
    "    err = np.mean(- y * np.log(y_pred) - (1.0 - y) * np.log(1.0 - y_pred))\n",
    "    return err"
   ]
  },
  {
   "cell_type": "markdown",
   "metadata": {},
   "source": [
    "#### Задание 2"
   ]
  },
  {
   "cell_type": "code",
   "execution_count": 14,
   "metadata": {},
   "outputs": [
    {
     "name": "stdout",
     "output_type": "stream",
     "text": [
      "Значение функции calc_logloss минимально: 0.6931471805599453, при аргументах y_true = 0.49998999999974075, y_pred =0.5000100000002593\n"
     ]
    }
   ],
   "source": [
    "#штраФ модели на ошибку, чем меньше, тем лучше\n",
    "trigger=[]\n",
    "iterator = 0.00001\n",
    "x=0\n",
    "while iterator !=0.99999:\n",
    "    y_true = 0.9 - iterator\n",
    "    y_pred = 0.1 + iterator\n",
    "    trigger.append(calc_logloss(y_true, y_pred))\n",
    "    if x ==0:\n",
    "        x+=1\n",
    "        iterator += 0.00001\n",
    "        continue\n",
    "    else:\n",
    "        if trigger[x] > trigger[x-1] or trigger[x] < 0:\n",
    "            iskomoe_znachenie = trigger[x-1]\n",
    "            print(f\"Значение функции calc_logloss минимально: {iskomoe_znachenie}, при аргументах y_true = {y_true}, y_pred ={y_pred}\")\n",
    "            break\n",
    "        else:\n",
    "            iterator += 0.00001\n",
    "            #print(trigger[x])\n",
    "            x+=1\n",
    "            continue"
   ]
  },
  {
   "cell_type": "markdown",
   "metadata": {
    "colab": {},
    "colab_type": "code",
    "id": "e6TH-mkPItb6"
   },
   "source": [
    "### Logistic Regression"
   ]
  },
  {
   "cell_type": "markdown",
   "metadata": {},
   "source": [
    "#### задание 3 и 4"
   ]
  },
  {
   "cell_type": "code",
   "execution_count": 15,
   "metadata": {
    "colab": {},
    "colab_type": "code",
    "id": "qtgUN3LW-UIq"
   },
   "outputs": [],
   "source": [
    "def sigmoid(z):\n",
    "    res = 1 / (1 + np.exp(-z))\n",
    "    return res\n",
    "\n",
    "def eval_LR_model(X, y, iterations, alpha=1e-4):\n",
    "    np.random.seed(42)\n",
    "    w = np.random.randn(X.shape[0]) # данная функция создает массив указанной формы и заполняет его случайными числами с плавающей точкой, которые выбраны из одномерного нормального (Гаусовского) распределения со средним значением равным 0 и дисперсией равной 1.\n",
    "    n = X.shape[1]\n",
    "    for i in range(1, iterations + 1):\n",
    "        z = np.dot(w, X)\n",
    "        y_pred = sigmoid(z)\n",
    "        err = calc_logloss(y, y_pred)\n",
    "        w -= alpha * (1/n * np.dot((y_pred - y), X.T))# градиентный спуск при подборе параметров весов\n",
    "        if i % (iterations / 10) == 0:\n",
    "            print(i, w, err)\n",
    "    return w\n",
    "\n",
    "#3. Создайте функцию calc_pred_proba, возвращающую предсказанную вероятность класса 1 (на вход подаются веса, которые уже посчитаны функцией eval_LR_model и X, на выходе - массив y_pred_proba).\n",
    "def calc_predict_p (W, X):\n",
    "    pr = sigmoid(np.dot(W,X_st)) # веса перемножаются на признаки и применяется функция сигмоиды (вероятность от 0 до 1)\n",
    "    return pr\n",
    "#4.Создайте функцию calc_pred, возвращающую предсказанный класс (на вход подаются веса, которые уже посчитаны функцией eval_LR_model и X, на выходе - массив y_pred).\n",
    "def calc_pred (predict_):\n",
    "    list_pred = []\n",
    "    for x, y in enumerate(predict_):\n",
    "        if y > 0.5:\n",
    "            print(f\"Значение {y}  № {x} принадлежит к классу 1\")\n",
    "            list_pred.append(1)\n",
    "        else:\n",
    "            print(f\"Значение {y}  № {x} принадлежит к классу 0\")\n",
    "            list_pred.append(0)\n",
    "    return list_pred\n",
    "\n",
    "\n"
   ]
  },
  {
   "cell_type": "code",
   "execution_count": 16,
   "metadata": {
    "colab": {
     "base_uri": "https://localhost:8080/",
     "height": 190
    },
    "colab_type": "code",
    "id": "oqX7loklBmYZ",
    "outputId": "f4849295-1f14-40d8-c8f2-d1b002e130c5"
   },
   "outputs": [
    {
     "name": "stdout",
     "output_type": "stream",
     "text": [
      "1000 [-0.29764618 -0.72670545  1.061634    1.39666497] 0.5233765331724747\n",
      "2000 [-0.64214517 -0.81531815  1.11599369  1.72618787] 0.49941171738897017\n",
      "3000 [-0.95627497 -0.87648865  1.10170056  2.00552673] 0.4812997915130281\n",
      "4000 [-1.25395556 -0.91702026  1.05407927  2.24381099] 0.4663484120925518\n",
      "5000 [-1.53718107 -0.94412619  0.98701591  2.45304376] 0.4534151021622755\n",
      "6000 [-1.80709894 -0.96248191  0.90882535  2.64121123] 0.4419377780140083\n",
      "7000 [-2.0646379  -0.97512726  0.82480965  2.81363531] 0.4316064579082126\n",
      "8000 [-2.31061284 -0.98407392  0.73840308  2.97395036] 0.42222864967057394\n",
      "9000 [-2.54576745 -0.99066711  0.65182927  3.12469136] 0.4136706162543685\n",
      "10000 [-2.77079473 -0.99580928  0.56650766  3.2676589 ] 0.4058305387773311\n",
      "Значение 0.25847878035031074  № 0 принадлежит к классу 0\n",
      "Значение 0.3057150314319049  № 1 принадлежит к классу 0\n",
      "Значение 0.8190665121215261  № 2 принадлежит к классу 1\n",
      "Значение 0.2814946649704948  № 3 принадлежит к классу 0\n",
      "Значение 0.7911779237366234  № 4 принадлежит к классу 1\n",
      "Значение 0.5725862154750925  № 5 принадлежит к классу 1\n",
      "Значение 0.9350204570687697  № 6 принадлежит к классу 1\n",
      "Значение 0.15079263493600864  № 7 принадлежит к классу 0\n",
      "Значение 0.24744133215797812  № 8 принадлежит к классу 0\n",
      "Значение 0.858405851078049  № 9 принадлежит к классу 1\n",
      "[0, 0, 1, 0, 1, 1, 1, 0, 0, 1]\n",
      "[0 0 1 0 1 0 1 0 1 1]\n"
     ]
    },
    {
     "data": {
      "text/plain": [
       "<matplotlib.legend.Legend at 0x18222912100>"
      ]
     },
     "execution_count": 16,
     "metadata": {},
     "output_type": "execute_result"
    },
    {
     "data": {
      "image/png": "[encoded data removed]",
      "text/plain": [
       "<Figure size 432x288 with 1 Axes>"
      ]
     },
     "metadata": {},
     "output_type": "display_data"
    }
   ],
   "source": [
    "w = eval_LR_model(X_st, y, iterations=10000, alpha=1e-2) # подбор весов признаков\n",
    "predict_ = calc_predict_p(w,X)\n",
    "predict_\n",
    "pr = calc_pred(predict_)\n",
    "print(f\"{pr}\\n{y}\")\n",
    "\n",
    "plt.scatter([1,2,3,4,5,6,7,8,9,10],pr)\n",
    "plt.scatter([1,2,3,4,5,6,7,8,9,10],y)\n",
    "\n",
    "\n",
    "plt.plot(pr, 'o-r', label='predict')\n",
    "plt.plot(y, 'o-.g', label='true_value')\n",
    "plt.legend(bbox_to_anchor=(1, 0.6))"
   ]
  },
  {
   "cell_type": "markdown",
   "metadata": {},
   "source": [
    "#### 5.Посчитайте accuracy, матрицу ошибок, precision и recall, а также F1-score."
   ]
  },
  {
   "cell_type": "code",
   "execution_count": 114,
   "metadata": {},
   "outputs": [
    {
     "data": {
      "text/plain": [
       "80.0"
      ]
     },
     "execution_count": 114,
     "metadata": {},
     "output_type": "execute_result"
    }
   ],
   "source": [
    "accuracy = 100.0 - np.mean(np.abs(y - pr)*100.0)\n",
    "accuracy"
   ]
  },
  {
   "cell_type": "code",
   "execution_count": 129,
   "metadata": {},
   "outputs": [],
   "source": [
    "def metrica (pr, y):\n",
    "    diff  = y - pr # дельты по классам\n",
    "    summ_diff_0 = sum(i == -1 for i in diff) # tn\n",
    "    summ_diff_1 = sum(i == 1 for i in diff) # fn\n",
    "    \n",
    "    CL_1 = sum(y==1) # класс 1\n",
    "    CL_0 = sum(y==0) # класс 0\n",
    "    \n",
    "    TP = CL_1 - summ_diff_1 # из значений класса 1 вычитаем ложные срабатывания\n",
    "    TN =  CL_2 - summ_diff_0 # из значений класса 0 вычитаем ложные срабатывания\n",
    "    FP = summ_diff_1\n",
    "    FN = summ_diff_0\n",
    "    print(f'TP:{TP}')\n",
    "    print(f'TN:{TN}')\n",
    "    print(f'FN:{FN}')\n",
    "    print(f'FP:{FP}')\n",
    "    \n",
    "    accuracy = (TP + TN) / (TP + TN + FP + FN)\n",
    "    precision = TP / (TP + FP)\n",
    "    recall = TP / (TP+FN)\n",
    "    FPR = FP / (FP + TN)\n",
    "    F1_Score = 2 * (precision*recall)/(precision+recall)\n",
    "    \n",
    "    return accuracy, precision, recall, FPR, F1_Score, CL_1, CL_2"
   ]
  },
  {
   "cell_type": "code",
   "execution_count": 130,
   "metadata": {},
   "outputs": [
    {
     "name": "stdout",
     "output_type": "stream",
     "text": [
      "TP:4\n",
      "TN:4\n",
      "FN:1\n",
      "FP:1\n",
      "accuracy: 0.8\n",
      "precision: 0.8\n",
      "recall: 0.8\n",
      "FPR: 0.2\n",
      "F1_Score: 0.8000000000000002\n"
     ]
    }
   ],
   "source": [
    "chto = metrica(pr,y)\n",
    "print(f'''accuracy: {chto[0]}\n",
    "precision: {chto[1]}\n",
    "recall: {chto[2]}\n",
    "FPR: {chto[3]}\n",
    "F1_Score: {chto[4]}''')"
   ]
  },
  {
   "cell_type": "markdown",
   "metadata": {},
   "source": [
    "#### 6.Могла ли модель переобучиться? Почему?"
   ]
  },
  {
   "cell_type": "code",
   "execution_count": null,
   "metadata": {},
   "outputs": [],
   "source": [
    "При маленьком количестве признаков модель имеет высокий риск переобучения."
   ]
  }
 ],
 "metadata": {
  "colab": {
   "collapsed_sections": [],
   "name": "Lesson3_.ipynb",
   "provenance": []
  },
  "kernelspec": {
   "display_name": "Python 3",
   "language": "python",
   "name": "python3"
  },
  "language_info": {
   "codemirror_mode": {
    "name": "ipython",
    "version": 3
   },
   "file_extension": ".py",
   "mimetype": "text/x-python",
   "name": "python",
   "nbconvert_exporter": "python",
   "pygments_lexer": "ipython3",
   "version": "3.8.3"
  },
  "toc": {
   "base_numbering": 1,
   "nav_menu": {},
   "number_sections": false,
   "sideBar": true,
   "skip_h1_title": true,
   "title_cell": "Содержание",
   "title_sidebar": "Содержание",
   "toc_cell": false,
   "toc_position": {},
   "toc_section_display": true,
   "toc_window_display": false
  }
 },
 "nbformat": 4,
 "nbformat_minor": 1
}
